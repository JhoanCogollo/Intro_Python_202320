{
  "nbformat": 4,
  "nbformat_minor": 0,
  "metadata": {
    "colab": {
      "provenance": [],
      "authorship_tag": "ABX9TyOt9fd1AXO+fbjYc2Y8H+hF",
      "include_colab_link": true
    },
    "kernelspec": {
      "name": "python3",
      "display_name": "Python 3"
    },
    "language_info": {
      "name": "python"
    }
  },
  "cells": [
    {
      "cell_type": "markdown",
      "metadata": {
        "id": "view-in-github",
        "colab_type": "text"
      },
      "source": [
        "<a href=\"https://colab.research.google.com/github/JhoanCogollo/Intro_Python_202320/blob/main/Introduction.ipynb\" target=\"_parent\"><img src=\"https://colab.research.google.com/assets/colab-badge.svg\" alt=\"Open In Colab\"/></a>"
      ]
    },
    {
      "cell_type": "markdown",
      "source": [
        "#                 Introducción a Python\n",
        "\n",
        "\n",
        "\n",
        "## Curso de programación y algoritmia UPB 202320\n",
        "\n",
        "- Nombre: Jhoan Cogollo\n",
        "- ID: 505395\n",
        "- EMAIL: jhoan.cogolloj@upb.edu.co\n",
        "\n",
        "Esta es la expresión de la linea recta:\n",
        "$$y=mx+b$$\n",
        "\n",
        "Donde $x$ es la posición."
      ],
      "metadata": {
        "id": "Tb7egPatFXzO"
      }
    },
    {
      "cell_type": "code",
      "source": [],
      "metadata": {
        "id": "eKTYsIJ6Hr_N"
      },
      "execution_count": null,
      "outputs": []
    }
  ]
}