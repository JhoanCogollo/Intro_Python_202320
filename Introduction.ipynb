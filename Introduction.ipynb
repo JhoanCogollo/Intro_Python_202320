{
  "nbformat": 4,
  "nbformat_minor": 0,
  "metadata": {
    "colab": {
      "provenance": [],
      "authorship_tag": "ABX9TyPE1WZnXNq5y468+eEPzp9n",
      "include_colab_link": true
    },
    "kernelspec": {
      "name": "python3",
      "display_name": "Python 3"
    },
    "language_info": {
      "name": "python"
    }
  },
  "cells": [
    {
      "cell_type": "markdown",
      "metadata": {
        "id": "view-in-github",
        "colab_type": "text"
      },
      "source": [
        "<a href=\"https://colab.research.google.com/github/JhoanCogollo/Intro_Python_202320/blob/main/Introduction.ipynb\" target=\"_parent\"><img src=\"https://colab.research.google.com/assets/colab-badge.svg\" alt=\"Open In Colab\"/></a>"
      ]
    },
    {
      "cell_type": "markdown",
      "source": [
        "#                 Introducción a Python\n",
        "\n",
        "\n",
        "\n",
        "## Curso de programación y algoritmia UPB 202320\n",
        "\n",
        "- Nombre: Jhoan Cogollo\n",
        "- ID: 505395\n",
        "- EMAIL: jhoan.cogolloj@upb.edu.co\n",
        "\n",
        "Esta es la expresión de la linea recta:\n",
        "$$y=mx+b$$\n",
        "\n",
        "Donde $x$ es la posición."
      ],
      "metadata": {
        "id": "Tb7egPatFXzO"
      }
    },
    {
      "cell_type": "code",
      "source": [
        "# Comentarios\n",
        "\n",
        "#Mis primeras lineas de código\n",
        "name= \"Jhoan Cogollo\"\n",
        "print(\"Hello, \", name)"
      ],
      "metadata": {
        "colab": {
          "base_uri": "https://localhost:8080/"
        },
        "id": "eKTYsIJ6Hr_N",
        "outputId": "23e45191-f611-4129-d21b-275950b0463a"
      },
      "execution_count": 8,
      "outputs": [
        {
          "output_type": "stream",
          "name": "stdout",
          "text": [
            "Hello,  Jhoan Cogollo\n"
          ]
        }
      ]
    },
    {
      "cell_type": "code",
      "source": [
        "firstname= \"Jhoan \"\n",
        "lastname=\"Cogollo\"\n",
        "\n",
        "age = 19\n",
        "city = \"Montería Córdoba\"\n",
        "favfood = \"El Arroz de coco con chicharrón\"\n",
        "\n",
        "print(\"Mi nombre es, \", firstname, lastname,\",\" \" tengo \", age, \"años. Vivo en \", city,\",\" \"Y me gusta\", favfood)\n",
        "\n",
        "\n",
        "\n",
        "\n",
        "\n"
      ],
      "metadata": {
        "colab": {
          "base_uri": "https://localhost:8080/"
        },
        "id": "a9sQWMERQjdj",
        "outputId": "5a6e04dd-4854-49c3-866d-04fc44721d37"
      },
      "execution_count": 11,
      "outputs": [
        {
          "output_type": "stream",
          "name": "stdout",
          "text": [
            "Mi nombre es,  Jhoan  Cogollo , tengo  19 años. Vivo en  Montería Córdoba ,Y me gusta El Arroz de coco con chicharrón\n"
          ]
        }
      ]
    }
  ]
}