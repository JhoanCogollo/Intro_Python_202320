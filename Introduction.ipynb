{
  "nbformat": 4,
  "nbformat_minor": 0,
  "metadata": {
    "colab": {
      "provenance": [],
      "authorship_tag": "ABX9TyMoHYVYOwZigfUMpkwEnFZd",
      "include_colab_link": true
    },
    "kernelspec": {
      "name": "python3",
      "display_name": "Python 3"
    },
    "language_info": {
      "name": "python"
    }
  },
  "cells": [
    {
      "cell_type": "markdown",
      "metadata": {
        "id": "view-in-github",
        "colab_type": "text"
      },
      "source": [
        "<a href=\"https://colab.research.google.com/github/JhoanCogollo/Intro_Python_202320/blob/main/Introduction.ipynb\" target=\"_parent\"><img src=\"https://colab.research.google.com/assets/colab-badge.svg\" alt=\"Open In Colab\"/></a>"
      ]
    },
    {
      "cell_type": "markdown",
      "source": [
        "#                 Introducción a Python\n",
        "\n",
        "\n",
        "\n",
        "## Curso de programación y algoritmia UPB 202320\n",
        "\n",
        "- Nombre: Jhoan Cogollo\n",
        "- ID: 505395\n",
        "- EMAIL: jhoan.cogolloj@upb.edu.co\n",
        "\n",
        "Esta es la expresión de la linea recta:\n",
        "$$y=mx+b$$\n",
        "\n",
        "Donde $x$ es la posición."
      ],
      "metadata": {
        "id": "Tb7egPatFXzO"
      }
    },
    {
      "cell_type": "code",
      "source": [
        "# Comentarios\n",
        "\n",
        "#Mis primeras lineas de código\n",
        "name= \"Jhoan Cogollo\"\n",
        "print(\"Hello, \", name)"
      ],
      "metadata": {
        "colab": {
          "base_uri": "https://localhost:8080/"
        },
        "id": "eKTYsIJ6Hr_N",
        "outputId": "23e45191-f611-4129-d21b-275950b0463a"
      },
      "execution_count": null,
      "outputs": [
        {
          "output_type": "stream",
          "name": "stdout",
          "text": [
            "Hello,  Jhoan Cogollo\n"
          ]
        }
      ]
    },
    {
      "cell_type": "code",
      "source": [
        "firstname= \"Jhoan \"\n",
        "lastname=\"Cogollo\"\n",
        "\n",
        "age = 19\n",
        "city = \"Montería Córdoba\"\n",
        "favfood = \"El Arroz de coco con chicharrón\"\n",
        "\n",
        "print(\"Mi nombre es, \", firstname, lastname,\",\" \" tengo \", age, \"años. Vivo en \", city,\",\" \"Y me gusta\", favfood)\n",
        "\n",
        "a = 3\n",
        "b = 4.5\n",
        "c = a+b\n",
        "print(c)\n",
        "print(type(a))\n",
        "print(type(b))\n",
        "print(\"El valor de a + b es igual a,\", c)\n",
        "c = c*a\n",
        "print(\"El valor que toma c al multiplicarlo con a=\",c)\n",
        "c= int(c/b)\n",
        "print(c)\n",
        "d=0.3\n",
        "c +=0.3\n",
        "print(c)\n",
        "\n",
        "\n",
        "\n",
        "\n",
        "\n"
      ],
      "metadata": {
        "colab": {
          "base_uri": "https://localhost:8080/"
        },
        "id": "a9sQWMERQjdj",
        "outputId": "e3e5be3c-4ec2-4ffb-b75f-03052503f506"
      },
      "execution_count": 11,
      "outputs": [
        {
          "output_type": "stream",
          "name": "stdout",
          "text": [
            "Mi nombre es,  Jhoan  Cogollo , tengo  19 años. Vivo en  Montería Córdoba ,Y me gusta El Arroz de coco con chicharrón\n",
            "7.5\n",
            "<class 'int'>\n",
            "<class 'float'>\n",
            "El valor de a + b es igual a, 7.5\n",
            "El valor que toma c al multiplicarlo con a= 22.5\n",
            "5\n",
            "5.3\n"
          ]
        }
      ]
    },
    {
      "cell_type": "code",
      "source": [
        "m=5\n",
        "b=2\n",
        "x=-1\n",
        "y=m*x+b\n",
        "print(\"El valor de y cuando x=-1, es=\", y)"
      ],
      "metadata": {
        "id": "sWwER8WSdpRn",
        "outputId": "e6b494aa-bd4c-44da-ddac-e90912409e2f",
        "colab": {
          "base_uri": "https://localhost:8080/"
        }
      },
      "execution_count": 13,
      "outputs": [
        {
          "output_type": "stream",
          "name": "stdout",
          "text": [
            "El valor de y cuando x=-1, es= -3\n"
          ]
        }
      ]
    },
    {
      "cell_type": "code",
      "source": [
        "m=5\n",
        "b=2\n",
        "x=-2\n",
        "y=m*x+b\n",
        "print(\"El valor de y cuando x=-2, es=\", y)"
      ],
      "metadata": {
        "id": "0TOJBEqxeK1D",
        "outputId": "f039fae9-8942-41d0-85bb-bc16e5334922",
        "colab": {
          "base_uri": "https://localhost:8080/"
        }
      },
      "execution_count": 14,
      "outputs": [
        {
          "output_type": "stream",
          "name": "stdout",
          "text": [
            "El valor de y cuando x=-2, es= -8\n"
          ]
        }
      ]
    },
    {
      "cell_type": "code",
      "source": [
        "m=5\n",
        "b=2\n",
        "x=-3\n",
        "y=m*x+b\n",
        "print(\"El valor de y cuando x=-3, es=\", y)"
      ],
      "metadata": {
        "id": "TxcsNJNqeK49",
        "outputId": "8f4f8782-ef10-4e4c-ac9e-c70734e57601",
        "colab": {
          "base_uri": "https://localhost:8080/"
        }
      },
      "execution_count": 15,
      "outputs": [
        {
          "output_type": "stream",
          "name": "stdout",
          "text": [
            "El valor de y cuando x=-3, es= -13\n"
          ]
        }
      ]
    },
    {
      "cell_type": "code",
      "source": [
        "m=5\n",
        "b=2\n",
        "x=0\n",
        "y=m*x+b\n",
        "print(\"El valor de y cuando x=0, es=\", y)"
      ],
      "metadata": {
        "id": "pPIa8d8NeQC_",
        "outputId": "f4789c20-f6cf-4f18-f361-92c1cdd1d402",
        "colab": {
          "base_uri": "https://localhost:8080/"
        }
      },
      "execution_count": 16,
      "outputs": [
        {
          "output_type": "stream",
          "name": "stdout",
          "text": [
            "El valor de y cuando x=0, es= 2\n"
          ]
        }
      ]
    },
    {
      "cell_type": "code",
      "source": [
        "from IPython.core.interactiveshell import dis\n",
        "a=1\n",
        "b=2\n",
        "c=-8\n",
        "\n",
        "disc=(b**2-4*a*b*c)**(1/2)\n",
        "x_p=(-b+disc)/(2*a)\n",
        "x_n=(-b-disc)/(2*a)\n",
        "print(\"x_p\",x_p)\n",
        "print(\"x_n\",x_n)\n"
      ],
      "metadata": {
        "id": "75pfVYJCfK8l",
        "outputId": "654b8361-8389-42bf-e222-c6130a022e52",
        "colab": {
          "base_uri": "https://localhost:8080/"
        }
      },
      "execution_count": 19,
      "outputs": [
        {
          "output_type": "stream",
          "name": "stdout",
          "text": [
            "x_p 3.1231056256176606\n",
            "x_n -5.123105625617661\n"
          ]
        }
      ]
    },
    {
      "cell_type": "code",
      "source": [
        "firstname=\"Jhoan\"\n",
        "lastname=\"Cogollo\"\n",
        "fullname= firstname+\" \" +lastname\n",
        "print(fullname)"
      ],
      "metadata": {
        "id": "ul-YyVWZj0vM",
        "outputId": "63992a44-cd0f-48f0-ac32-d7fbb693aa31",
        "colab": {
          "base_uri": "https://localhost:8080/"
        }
      },
      "execution_count": 20,
      "outputs": [
        {
          "output_type": "stream",
          "name": "stdout",
          "text": [
            "Jhoan Cogollo\n"
          ]
        }
      ]
    },
    {
      "cell_type": "code",
      "source": [
        "music=\"\"\"Don perignon LADY GAGA lentes\n",
        "en la cara, tuss* lavada, triple lavada y\n",
        "Una bandid* que me llama\n",
        "quieren mi lana, y no está mal...\"\"\"\n",
        "print(\"Mi song favorita es: \",music)"
      ],
      "metadata": {
        "id": "ABnVwsWJkxfd",
        "outputId": "8140be34-9d06-40e1-8baf-ac67df4ea752",
        "colab": {
          "base_uri": "https://localhost:8080/"
        }
      },
      "execution_count": 23,
      "outputs": [
        {
          "output_type": "stream",
          "name": "stdout",
          "text": [
            "Mi song favorita es:  Don perignon LADY GAGA lentes\n",
            "en la cara, tuss* lavada, triple lavada y\n",
            "Una bandid* que me llama \n",
            "quieren mi lana, y no está mal...\n"
          ]
        }
      ]
    },
    {
      "cell_type": "code",
      "source": [
        "a=1\n",
        "b=2\n",
        "print(a==b)\n",
        "print(a!=b)\n",
        "print(a>b)\n",
        "print(a<b)\n",
        "print(\" \")\n",
        "print((a==b)and(b+3>5))\n",
        "print((a==b)or(b+3>5))\n",
        "print(not(a==b))\n"
      ],
      "metadata": {
        "id": "2gv_DNb3mChD",
        "outputId": "9a0d0acf-725f-4918-b867-4b7ba55f019b",
        "colab": {
          "base_uri": "https://localhost:8080/"
        }
      },
      "execution_count": 27,
      "outputs": [
        {
          "output_type": "stream",
          "name": "stdout",
          "text": [
            "False\n",
            "True\n",
            "False\n",
            "True\n",
            " \n",
            "False\n",
            "False\n",
            "True\n"
          ]
        }
      ]
    }
  ]
}